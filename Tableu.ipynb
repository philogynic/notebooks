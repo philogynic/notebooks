{
 "cells": [
  {
   "cell_type": "markdown",
   "metadata": {},
   "source": [
    "# Tableu"
   ]
  },
  {
   "cell_type": "markdown",
   "metadata": {},
   "source": [
    "Starting\n",
    "- [Starting Tableu](https://medium.com/@rohan_barman/tableau-day-1-9afe1bfc8c83)\n",
    "- [What is Tableu?](http://understandingbusinessintelligence.blogspot.co.id/2016/04/what-is-tableau.html)\n",
    "- [Corporate Dashboard](http://understandingbusinessintelligence.blogspot.co.id/2016/03/corporate-dashboards.html)\n",
    "- [What Tableu IS and IS NOT](https://www.interworks.com/blog/dmurray/2014/12/29/what-tableau-and-not)\n",
    "- [Tableu Deep Dives](https://www.interworks.com/blog/series/tableau-deep-dives)\n",
    "\n",
    "Need some example on how people use Tableu\n",
    "- [Investigating global temperature trends with __BigQuery__ and __Tableu__](https://tilwbq.com/investigating-global-temperature-trends-with-bigquery-and-tableau-46c6ddd036ba)\n",
    "\n"
   ]
  },
  {
   "cell_type": "code",
   "execution_count": null,
   "metadata": {
    "collapsed": true
   },
   "outputs": [],
   "source": []
  }
 ],
 "metadata": {
  "anaconda-cloud": {},
  "kernelspec": {
   "display_name": "Python [default]",
   "language": "python",
   "name": "python3"
  },
  "language_info": {
   "codemirror_mode": {
    "name": "ipython",
    "version": 3
   },
   "file_extension": ".py",
   "mimetype": "text/x-python",
   "name": "python",
   "nbconvert_exporter": "python",
   "pygments_lexer": "ipython3",
   "version": "3.5.2"
  }
 },
 "nbformat": 4,
 "nbformat_minor": 2
}
