{
 "cells": [
  {
   "cell_type": "markdown",
   "metadata": {},
   "source": [
    "# Growth in startup\n",
    "\n",
    "After I got rejected as fraud analyst (well since I don't have any experience with fraud whatsoever before), I get a chance to land a job in the growth team. There are several take home problem that I need to answer before I can go to the next step for interview. Again no luck for me, I didn't have experience on this topic before, the same as I know nothing about fraud. I know nothing about growth man! But lives goes on and I really need a job, so better prepare myself for everything that comes by and be brave for all the opportunities. So here we go, I present to you, a tutorial of growth from a complete newbie. (or a marketing tutorial from physicist)"
   ]
  },
  {
   "cell_type": "markdown",
   "metadata": {},
   "source": [
    "First thing first: The growth team in the startup is part of Business Intelligece team. So before I move on, I recommend myself to learn more about what the hell is BI. I ask one of my friend on BI, but he doesn't seem to know about it either, so I need to ask google then:\n",
    "\n",
    "- https://en.wikipedia.org/wiki/Business_intelligence\n",
    "\n",
    "\n",
    "So BI is a view of business operations.\n",
    "\n",
    "Common function of BI:\n",
    "- reporting\n",
    "- online analytical processing\n",
    "- analytics\n",
    "- data mining\n",
    "- process mining\n",
    "- complex event processing\n",
    "- business performance management\n",
    "- bechmarking\n",
    "- text mining\n",
    "- predictive analytics\n",
    "- prescriptive analytics\n",
    "\n",
    "BI helps tp develop and create new strategic __business opportunities__. Note that it's need an easy interpretation.\n",
    "\n",
    "BI support wide range of business decision - ranging from operational to strategic.\n",
    "- Basic operation, e.g. product positioning or pricing\n",
    "- Startegic business: priorities, goals and directions at the broadest level.\n",
    "\n",
    "In all cases, BI is most effective when it combines data derived from the market in which company operates (external data) and data from company sources internal such as financial and operations data (internal data)."
   ]
  },
  {
   "cell_type": "markdown",
   "metadata": {},
   "source": [
    "Components of BI:\n",
    "- Multidimensional aggregation and allocation\n",
    "- Denormalization, tagging and standardization\n",
    "- Realtime reporting with analytical alert\n",
    "- A method of interfacing with unstructured data sources\n",
    "- Group consolidation, budgeting and rolling forecast\n",
    "- Statistical inference and probabilistic simulation\n",
    "- Key performance indicators optimization\n",
    "- Version control and process management\n",
    "- Open ite management\n",
    "\n",
    "There are critics to BI: that it evolved mere from business reporting together with the advent of increasingly powerful and easy-to-use data analysis tools. In this respect it has also beed critized as a marketing buzzword in the context of the \"big data\" surge."
   ]
  },
  {
   "cell_type": "markdown",
   "metadata": {},
   "source": [
    "__Well now I understand why my friend cannot answer my question regarding his job in BI, it just because the term is too broad man!__"
   ]
  },
  {
   "cell_type": "markdown",
   "metadata": {},
   "source": [
    "# 1."
   ]
  },
  {
   "cell_type": "markdown",
   "metadata": {},
   "source": [
    "The first problem is about funnel analytics. It's seems easy to understand the data. It is just a montly basis measurement of number of total user who signed up, phone verified, request a booking, and active users on each month, from october 2016 to march 2017. The hardest part of this I think is the question that I need to answer:\n",
    "1. What actions would you commit to fix the problem based on this data?\n",
    " - The first step is to __understand the problem from the data__. I think what it means by \"the problem\" should be connected to the goal. One of our goal is to maximize the number of active users. There is a reason why it called \"funnel\": since you almost always find this kind of funnel pattern on every process when you count the user on every path that the user experienced.\n",
    " - The second step is to understand __why__ that problem occurs. This cannot be done using only the provided data. But I don't know yet what other information to support this. In this step I think it would be better if we made some hypothesis regarding the \"why\", and gather many information to support or reject the hypothesis.\n",
    " - The third is to find ways to fix them.\n",
    "2. The second is about priority.\n",
    "3. The third is about implementation\n",
    "4. Measurement on how succesfull the implementation is\n",
    "\n",
    "Reading the wikipedia page https://en.wikipedia.org/wiki/Behavioral_analytics, there is a good link to the behavioral analytics https://en.wikipedia.org/wiki/Behavioral_analytics\n",
    "\n",
    "And then to path analysis https://en.wikipedia.org/wiki/Path_analysis_(computing)\n",
    "\n",
    "and the I should read about web analytics. But Gojek is not website, it's mere mobile apps.\n",
    "\n",
    "And then it leads to google analytics. I never use it before so better find something about what it can do https://www.google.com/analytics/analytics/features/\n",
    "\n",
    "and of course, it mention about Mixpanel (in-app analytics tool which shows different events done by different users and their funnels)."
   ]
  },
  {
   "cell_type": "markdown",
   "metadata": {},
   "source": [
    "# 2.\n",
    "\n",
    "This is using data in Problem B. This problem doesn't have question attached, so I have to formulate the problem myself mylurd. If I have a friend who gives me this data, I would ask him: what exactly you want to know? If his answer is \"I don't know\", then I know that it's my job to find something.\n",
    "\n",
    "There's one thing tho, get a __quick snapshot view of Go-jek performance.__\n",
    "\n",
    "- The first step again is to understand the data. There is data dictionary to help me. Looking at the data, I think this is an aggregated data, query using group by on the Date, Status of Ord and last on the Service, and then do aggregation function count to get # of Orders, and sum to get Total CBV.\n",
    "- So there are date, status and services. We can present them in one overall picture. We can see by dates, or we can see by services. Gojek has many services right. But since there's test no 4 that asking that in more detail. This no 2 I think are asking for overall performance in a super consise and solid way."
   ]
  },
  {
   "cell_type": "markdown",
   "metadata": {},
   "source": [
    "# 4.\n",
    "\n",
    "This still related to problem B.\n",
    "\n",
    "- Make a visualization and do a short description related to performance about it.\n",
    "- Formulate and points out some problem too\n",
    "- Make a concrete plan for management to commit for the next quarter (DAAANG!)"
   ]
  },
  {
   "cell_type": "markdown",
   "metadata": {},
   "source": [
    "# 5.\n",
    "\n",
    "Related to problem C. I take a view steps to understand the data first.\n",
    "- There are two table (I assume they both are in the same database): __Employee__ and __AnnualReviews__\n",
    "- The __Employee__ table has 6 columns:\n",
    " - FirstName\n",
    " - LastName\n",
    " - ID\n",
    " - HireDate\n",
    " - TerminationDate\n",
    " - Salary\n",
    "- The __AnnualReviews__ tables has 3 columnsL\n",
    " - the ID (the review ID I guess)\n",
    " - EmpID (the employe ID)\n",
    " - ReviewDate\n",
    "\n",
    "\n",
    "I need to write SQL queries for some task:\n",
    "1. Write a query to return all employees still working for the company with last names starting with \"Smith\" sorted by last name then first name.\n",
    "2. Given the \"Employee\" and \"AnnualReviews\" tables, write a query to return all employees who have never had a review sorted by HireDate\n",
    "3. Write a query to calculate the difference (in days) between the most and least tenured employee still working fot the company\n",
    "4. Given the employee table above, write a query to calculate the longest period (in days) that the company has gone without a hiring or firing anyone.\n",
    "5. Write a query that returns each employee and for each row/employee include the greatest number of employees that worked for the company at any time during their tenure and the first date tha maximum was reached. Extra points for not using cursors? the hell is cursor? wkwkwk"
   ]
  },
  {
   "cell_type": "markdown",
   "metadata": {},
   "source": [
    "# 6.\n",
    "Tell me about yourself things"
   ]
  },
  {
   "cell_type": "markdown",
   "metadata": {},
   "source": [
    "# 7.\n",
    "\n",
    "It's a case. About Go-Pulsa and Go-Pay.\n",
    "\n",
    "I don't know about Go-Points.\n",
    "\n",
    "- Design an experiment to test the product owner's hypothesis\n",
    "- Include details on how would you segment your users?\n",
    "- What data would you analyze to come to your conclusion of whether or not the Product Owner's hypothesis was true?\n"
   ]
  },
  {
   "cell_type": "code",
   "execution_count": null,
   "metadata": {
    "collapsed": true
   },
   "outputs": [],
   "source": []
  }
 ],
 "metadata": {
  "anaconda-cloud": {},
  "kernelspec": {
   "display_name": "Python [default]",
   "language": "python",
   "name": "python3"
  },
  "language_info": {
   "codemirror_mode": {
    "name": "ipython",
    "version": 3
   },
   "file_extension": ".py",
   "mimetype": "text/x-python",
   "name": "python",
   "nbconvert_exporter": "python",
   "pygments_lexer": "ipython3",
   "version": "3.5.2"
  }
 },
 "nbformat": 4,
 "nbformat_minor": 2
}
