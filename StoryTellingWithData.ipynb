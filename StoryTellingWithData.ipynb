{
 "cells": [
  {
   "cell_type": "markdown",
   "metadata": {},
   "source": [
    "# Storytelling with Data\n",
    "\n",
    "https://www.dataquest.io/blog/data-science-portfolio-project/\n",
    "\n",
    "Yes this is about my portofolio. Primary skills of data scientist:\n",
    "- Ability to communicate\n",
    "- Ability to collaborate with others\n",
    "- Technical competence\n",
    "- Ability to reason about data\n",
    "- Motivation and ability to take initiative\n",
    "\n",
    "A story in the data science context are:\n",
    "- __narrative around what you found__\n",
    "- __how you found it?__\n",
    "- __what it means?__\n",
    "\n",
    "The main components of storytelling:\n",
    "- Understanding and setting the context\n",
    "- Exploring multiple angles\n",
    "- Using compelling visualization\n",
    "- Using varied data sources (supplement data)\n",
    "- Having a consistent narrative\n",
    "\n"
   ]
  },
  {
   "cell_type": "code",
   "execution_count": null,
   "metadata": {
    "collapsed": true
   },
   "outputs": [],
   "source": []
  }
 ],
 "metadata": {
  "anaconda-cloud": {},
  "kernelspec": {
   "display_name": "Python [default]",
   "language": "python",
   "name": "python3"
  },
  "language_info": {
   "codemirror_mode": {
    "name": "ipython",
    "version": 3
   },
   "file_extension": ".py",
   "mimetype": "text/x-python",
   "name": "python",
   "nbconvert_exporter": "python",
   "pygments_lexer": "ipython3",
   "version": "3.5.2"
  }
 },
 "nbformat": 4,
 "nbformat_minor": 2
}
