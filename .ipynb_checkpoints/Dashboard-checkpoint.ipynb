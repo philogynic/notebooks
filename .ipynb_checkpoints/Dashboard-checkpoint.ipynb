{
 "cells": [
  {
   "cell_type": "markdown",
   "metadata": {},
   "source": [
    "# Dashboard\n",
    "\n",
    "dashboard dashboard dashboard dashboard dashboard dashboard dashboard dashboard\n",
    "\n",
    "- "
   ]
  },
  {
   "cell_type": "markdown",
   "metadata": {},
   "source": [
    "- https://medium.com/@_dmusic/value-from-dashboards-the-real-story-921b772a8d1e\n",
    "- https://hackernoon.com/building-dashboards-is-cowardly-73a141f2b517\n",
    "- https://comprehension360.corsairs.network/perspective-is-what-separates-great-analysts-from-the-geek-in-the-corner-74c3e048bcbb"
   ]
  },
  {
   "cell_type": "markdown",
   "metadata": {
    "collapsed": true
   },
   "source": [
    "- https://medium.com/airbnb-engineering/scaling-knowledge-at-airbnb-875d73eff091\n",
    "- https://medium.com/airbnb-engineering/4-principles-for-making-experimentation-count-7a5f1a5268a\n",
    "- https://medium.com/@treycausey/do-you-have-time-for-a-quick-chat-c3f7e46de89d"
   ]
  },
  {
   "cell_type": "markdown",
   "metadata": {},
   "source": [
    "## Information Dashboard Design (Stephen Few)\n",
    "\n",
    "> A dashboard is a visual display of the most important information needed to achieve one or more __objectives__; consolidated and arranged on a single screen so the information can be __monitored at a glance__."
   ]
  },
  {
   "cell_type": "code",
   "execution_count": null,
   "metadata": {
    "collapsed": true
   },
   "outputs": [],
   "source": []
  }
 ],
 "metadata": {
  "anaconda-cloud": {},
  "kernelspec": {
   "display_name": "Python [default]",
   "language": "python",
   "name": "python3"
  },
  "language_info": {
   "codemirror_mode": {
    "name": "ipython",
    "version": 3
   },
   "file_extension": ".py",
   "mimetype": "text/x-python",
   "name": "python",
   "nbconvert_exporter": "python",
   "pygments_lexer": "ipython3",
   "version": "3.5.2"
  }
 },
 "nbformat": 4,
 "nbformat_minor": 2
}
