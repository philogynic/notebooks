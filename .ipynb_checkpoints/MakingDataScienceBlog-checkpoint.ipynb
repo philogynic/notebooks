{
 "cells": [
  {
   "cell_type": "markdown",
   "metadata": {},
   "source": [
    "# Data Science Blog"
   ]
  },
  {
   "cell_type": "markdown",
   "metadata": {},
   "source": [
    "Just one thing, make a blog that display my jupyter notebook. That's all. How?\n",
    "\n",
    "There's something called __static site generators__ that allow you to write blog post in a simple formats, usually markdown, then define some settings. The generators then convert your posts into HTML automatically. Using a static site generator, we'd be able to dramatically simplify from .html into just write .md. But then how about managing the content of the blog? I mean, isn't static site generator is just a way to easily making content (instead of writing html file, we write markdown file for example)? How about if I want to make list of topic, list of content, etc? How about the dynamics part of blog site? You can use plugins.\n",
    "\n",
    "There are a few different static site generators:\n",
    "- Jekyll\n",
    "- Pelican\n",
    "\n",
    "Here we will try using Pelican as the static site generator. So here's list of tutorial about Pelican:\n",
    "- https://www.dataquest.io/blog/how-to-setup-a-data-science-blog/\n",
    "- http://nafiulis.me/making-a-static-blog-with-pelican.html#getting-started\n",
    "- https://www.fullstackpython.com/pelican.html"
   ]
  },
  {
   "cell_type": "markdown",
   "metadata": {},
   "source": [
    "# Pelican\n",
    "\n",
    "Pelican allows you to create a static blog. Most blog sites on the web are dynamic in the sense that the content of the site live in a database. Static websites are easier to deploy than full web applcation built with a web framework that rely on a presistent database backend. In order to view a post on a blog, the server has to query the database, get the right content and then convert it into presentable HTML. However, in a static site, every page is pre-rendered by the static blog generator. This makes static site are typically much faster to load because there are no database queries or middleware code to execute during the HTTP request-response cycle. This means that your entire blog can be uploaded to a server.\n",
    "\n",
    "Pelican has many __plugins__ for quickly adding extra functionality, like the support for other document formats; `ipynb` for example. Plugin also allow you to support things like MathJax and embed __disqus__ comments."
   ]
  },
  {
   "cell_type": "markdown",
   "metadata": {},
   "source": [
    "## Getting started\n",
    "\n",
    "Few basic things that you need to know:\n",
    "- git\n",
    "- bash\n",
    "- python\n",
    "\n",
    "Here we going to do:\n",
    "1. Installing Pelican\n",
    "- Basic setup\n",
    "- Making first post locally\n",
    "\n",
    "Let's go step by step\n",
    "### 1. Installing Pelican\n",
    "to install pelican, use python package manager:\n",
    "\n",
    "> `$ pip install pelican`\n",
    "\n",
    "\n",
    "### 2. Basic Setup\n",
    "When first beginning with pelican, one can choose to use the pelican skeleton generator to create a basic structure using `pelican-quickstart`. So go to my documents or something and make a new directory, named it whatever you want. For me I make a directory called `pelican_learn` inside `Documents`. Then you can `cd` to the directory you already created and type\n",
    "\n",
    "> `$ pelican-quickstart`\n",
    "\n",
    "For first time, you just go with default option except about website title and the author\n",
    "\n",
    "The quickstart created five files and 2 new directory:\n",
    "- `Makefile`: `make` command convenience tasks for common operations such as running a development server, building a site and cleaning extraneous build files.\n",
    "- `fabfile.py`: A Fabric file that has some of the types of commands as the `Makefile`. Fabric is a wonderful code library but unfortunately does not yet support Python 3.\n",
    "- `develop_server.sh`: shell script for running the development server\n",
    "- `pelicanconf.py`: settings file for your pelican project.\n",
    "- `publishconf.py`: another settings file that can be considered as a \"production\" settings file when you move pass the development phase and want to deploy your site.\n",
    "- `content`: location for your markup files, which should be stored under pages and posts directories.\n",
    "\n",
    "\n",
    "\n",
    "### 3. Making first post locally\n",
    "\n",
    "You already done with `pelican-quickstart`\n",
    "\n",
    "Pelican by default support reStructuredText out of the box. But you can install markdown tho\n",
    "\n",
    "> `$ pip instsall markdown`\n",
    "\n",
    "you can find a directory called `content` in your root, that is where you will add your blog content. `cd` to the `content` directory or use your gui easily and make this `first_post.rst` file\n",
    "\n",
    "```\n",
    "first_post\n",
    "##########\n",
    "\n",
    ":date: 2017-09-07 22:43\n",
    ":category: Test\n",
    "\n",
    "Hello World from Pelican\n",
    "```\n",
    "\n",
    "Basically, all one needs is a `category` and a `date`. A markdown version `first_post.md` of the same post would be:\n",
    "```\n",
    "Title: first_post\n",
    "Date: 2017-09-07 22:43\n",
    "Category: Test\n",
    "\n",
    "Hello World from Pelican\n",
    "```\n",
    "So you have first_post.rst or first_post.md on your content directory. \n",
    "\n",
    "Or from other example (Fullstack Python), you can make new subdirectory called `posts` inside the `content` directory and make a file: `gunship.markdown`\n",
    "```\n",
    "title: Gunship\n",
    "slug: gunship\n",
    "category: bands\n",
    "date: 2017-06-09\n",
    "modified: 2017-06-09\n",
    "\n",
    "\n",
    "[Gunship](https://www.gunshipmusic.com/) is a *retro synthwave* artist out of the UK.\n",
    "\n",
    "[Revel in Your Time](https://www.youtube.com/watch?v=uYRZV8dV10w), \n",
    "[Tech Noir](https://www.youtube.com/watch?v=-nC5TBv3sfU), \n",
    "[Fly for Your Life](https://www.youtube.com/watch?v=Jv1ZN8c4_Gs) \n",
    "and \n",
    "[The Mountain](https://www.youtube.com/watch?v=-HYRTJr8EyA) \n",
    "are all quality songs by Gunship. Check out those amazing music videos!\n",
    "\n",
    "Also take a look at other retro synthwave artists such as\n",
    "[Trevor Something](https://trevorsomething.bandcamp.com/), \n",
    "[Droid Bishop](https://droidbishop.bandcamp.com/),\n",
    "[FM-84](https://fm84.bandcamp.com/)\n",
    "and \n",
    "[Daniel Deluxe](https://danieldeluxe.bandcamp.com/).\n",
    "```\n",
    "\n",
    "\n",
    "Now changing back to your project root directory, we can start the development server, and see the generated blog post:\n",
    "\n",
    "> `$ make devserver`\n",
    "\n",
    "The alternative to `make` (when you dont have `make` installed in your sytem) would be go to `output` directory and use the `$ python -m http.server` command.\n",
    "\n",
    "The server will running in the background, you can stop it by typing\n",
    "\n",
    "> `$ make stopserver`\n",
    "\n",
    "\n",
    "what if you dont want to use `make devserver`? You can use `make html` to invoke the pelican to generate the site in `output directory`, then you can just `cd` to `output` and `python -m http.server`"
   ]
  },
  {
   "cell_type": "markdown",
   "metadata": {},
   "source": [
    "## Automation\n",
    "WTF is automation? olright, this just make you get the title, date, and category easier. Programmers think that creating new file with the right date and time can be time consuming, so better make use tools to automate the task.\n",
    "\n",
    "### Vanilla Python\n",
    "\n",
    "We can create a simple scripts to automatically create the entries with the right date and time. Here is an example script called `make_entry.py` as command line tool\n",
    "\n",
    "```python\n",
    "import sys\n",
    "from datetime import datetime\n",
    "\n",
    "TEMPLATE = \"\"\"\n",
    "Title: {title}\n",
    "Date: {date}\n",
    "Tags: {tags}\n",
    "Category: {category}\n",
    "Slug: {slug}\n",
    "Summary: {summary}\n",
    "Status: {status}\n",
    "\n",
    "\"\"\"\n",
    "\n",
    "\n",
    "def make_entry(title):\n",
    "    today = datetime.today()\n",
    "    slug = title.lower().strip().replace(' ', '-')\n",
    "    f_create = \"content/{}_{:0>2}_{:0>2}_{}.md\".format(\n",
    "        today.year, today.moth, today.day, slug)\n",
    "    t = TEMPLATE.strip().format(title=title,\n",
    "                                hashes='#' * len(title),\n",
    "                                year=today.year,\n",
    "                                month=today.month,\n",
    "                                day=today.day,\n",
    "                                hour=today.hour,\n",
    "                                minute=today.minute,\n",
    "                                slug=slug)\n",
    "    with open(f_create, 'w') as w:\n",
    "        w.write(t)\n",
    "    print(\"File created ->\" + f_create)\n",
    "    \n",
    "if __name__ == '__main__':\n",
    "\n",
    "    if len(sys.argv)>1:\n",
    "        make_entry(sys.argv[1])\n",
    "    else:\n",
    "        print(\"No title given\")\n",
    "```\n",
    "\n",
    "With this, making a new file can be created like so:\n",
    "\n",
    "> `$ python make_entry.py \"New Post\"`\n",
    "\n",
    "\n",
    "### Fabric\n",
    "\n",
    "There is a problem when we make CLI this way tho. Using this script, we only can specify one argument, that is the `title`. Moreover, after the `if __name__=='__main__':`, we need to explicitly use if-else statements when the user forget to input the title, or if wanna add more argument. There is a better alternative: making script that can take in different parameters : Fabric. Pelican already generates a `fabfile.py`. Getting a new command line function in fabric is very easy:\n",
    "\n",
    "- If you don't have a `fabfile.py`, create one.\n",
    "- Create a new function inside `fabfile.py`\n",
    "- Run the function like so: `fab do_something`\n",
    "- If the function has positional arguments, `fab do_something:True, False`\n",
    "- If the function has optional keyword arguments `fab do_something:kill_p=True, be_happy=False`\n",
    "\n",
    "Installing fabric\n",
    "\n",
    "> `$ pip install Fabric`\n",
    "\n",
    "The body of the function to make an entry is the same as before:\n",
    "\n",
    "FUCK, I think it doesnt work with python3"
   ]
  },
  {
   "cell_type": "markdown",
   "metadata": {},
   "source": [
    "## Themes\n"
   ]
  },
  {
   "cell_type": "markdown",
   "metadata": {},
   "source": []
  },
  {
   "cell_type": "markdown",
   "metadata": {},
   "source": []
  },
  {
   "cell_type": "markdown",
   "metadata": {},
   "source": []
  },
  {
   "cell_type": "markdown",
   "metadata": {},
   "source": []
  },
  {
   "cell_type": "markdown",
   "metadata": {},
   "source": []
  },
  {
   "cell_type": "markdown",
   "metadata": {},
   "source": []
  },
  {
   "cell_type": "markdown",
   "metadata": {},
   "source": []
  },
  {
   "cell_type": "markdown",
   "metadata": {},
   "source": []
  },
  {
   "cell_type": "markdown",
   "metadata": {},
   "source": []
  },
  {
   "cell_type": "markdown",
   "metadata": {},
   "source": []
  },
  {
   "cell_type": "markdown",
   "metadata": {},
   "source": []
  },
  {
   "cell_type": "markdown",
   "metadata": {},
   "source": []
  },
  {
   "cell_type": "markdown",
   "metadata": {},
   "source": []
  },
  {
   "cell_type": "markdown",
   "metadata": {},
   "source": []
  },
  {
   "cell_type": "markdown",
   "metadata": {},
   "source": []
  },
  {
   "cell_type": "markdown",
   "metadata": {},
   "source": []
  },
  {
   "cell_type": "markdown",
   "metadata": {},
   "source": []
  },
  {
   "cell_type": "markdown",
   "metadata": {},
   "source": []
  },
  {
   "cell_type": "markdown",
   "metadata": {},
   "source": []
  },
  {
   "cell_type": "markdown",
   "metadata": {},
   "source": []
  },
  {
   "cell_type": "markdown",
   "metadata": {},
   "source": []
  },
  {
   "cell_type": "markdown",
   "metadata": {},
   "source": []
  },
  {
   "cell_type": "markdown",
   "metadata": {},
   "source": []
  }
 ],
 "metadata": {
  "anaconda-cloud": {},
  "kernelspec": {
   "display_name": "Python [default]",
   "language": "python",
   "name": "python3"
  },
  "language_info": {
   "codemirror_mode": {
    "name": "ipython",
    "version": 3
   },
   "file_extension": ".py",
   "mimetype": "text/x-python",
   "name": "python",
   "nbconvert_exporter": "python",
   "pygments_lexer": "ipython3",
   "version": "3.5.2"
  }
 },
 "nbformat": 4,
 "nbformat_minor": 2
}
