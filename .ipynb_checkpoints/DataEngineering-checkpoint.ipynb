{
 "cells": [
  {
   "cell_type": "markdown",
   "metadata": {},
   "source": [
    "# Data Engineering\n",
    "\n",
    "Recently after I rejected from one of Unicorn startup in Indonesia, I send an email to one of my interviewer and ask him for some feedback. He's one of the data scientist in that startup. I never thought he would remember me since there should be many applicants other than me but he did remember our conversation. He gave me a good constructive feedback. I really appreciate that Darius. Hope the best for you and your career. So here's what I learn from him:\n",
    "\n",
    "\n",
    "\n",
    "> I think you can start by using public data, and try blog how you solve the problem that you are facing. Since you want to learn about data engineering, you can also collect data through crawling, and design a storage space (Relational database design like how many tables and what is in the table). You can also explore airflow to do the scheduling job. I think that will be interesting.\n",
    "\n",
    "> Some knowledge in cloud system would be great such as AWS or GCP. What you need to learn is just how to manage instances. \n",
    "\n",
    "> In general, basically, just do a simple data science work but have some extensive data engineering process and document them. This is not big data yet, but you learn the pipeline process of how to acquire data, clean data, store data, and eventually used data for business purpose. Big data technology will be same, the only difference is just you use different tools. The most important part is to really master the pipeline process since they are all the same. You can just choose any topic, try looking into kagle data science for some ideas. \n",
    "\n",
    "> Well, best of luck. Keep in touch, there is still a of opportunity in the tech world. \n",
    "\n",
    "\n",
    "I've done a lot with kaggle, I'm pretty confident to my ability to do machine learning and even some more complex model, but not with my ability in data engineering, cloud platform, and the business itself. I need to get stronger experience and exposure on those three to land a job in tech industry.\n",
    "\n",
    "I'm planning to write about those three topic separately, so here's my views about data engineering."
   ]
  },
  {
   "cell_type": "code",
   "execution_count": null,
   "metadata": {
    "collapsed": true
   },
   "outputs": [],
   "source": []
  }
 ],
 "metadata": {
  "anaconda-cloud": {},
  "kernelspec": {
   "display_name": "Python [default]",
   "language": "python",
   "name": "python3"
  },
  "language_info": {
   "codemirror_mode": {
    "name": "ipython",
    "version": 3
   },
   "file_extension": ".py",
   "mimetype": "text/x-python",
   "name": "python",
   "nbconvert_exporter": "python",
   "pygments_lexer": "ipython3",
   "version": "3.5.2"
  }
 },
 "nbformat": 4,
 "nbformat_minor": 2
}
