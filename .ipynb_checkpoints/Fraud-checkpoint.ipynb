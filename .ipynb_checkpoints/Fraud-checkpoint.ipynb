{
 "cells": [
  {
   "cell_type": "markdown",
   "metadata": {},
   "source": [
    "# Fraud"
   ]
  },
  {
   "cell_type": "markdown",
   "metadata": {},
   "source": [
    "What is fraud? Why is it hard?\n",
    "\n",
    "\n",
    "\n",
    "E Commerce\n",
    "Imagine you designing E-commerce / Marketplace app. What are you gonna do to make it save?\n",
    "- Consumer / Merchant identity\n",
    "- Payment model and channel\n",
    "- Database design\n",
    "- e-money\n",
    "\n",
    "If you are in Bukalapak, how would you design the database?\n",
    "It is related to what do you want to do with the database. Why you should have database in the first place?\n",
    "\n",
    "- I sell something, merchant sell something, so that \"something\" should be saved in the database. So it is __item__ database.\n",
    "- I have user/customer, merchant so I have __merchant__ database and __buyer__ database.\n",
    "- I have transaction between me or merchant and the buyer, so I have __transaction__ database.\n",
    "\n",
    "What kind of fraud that can happen?\n",
    "- rating and review fraud by user.\n",
    "- when you set free shipment promo. How can it be abused? merchant can abuse it to free their own logistic need.\n",
    "- promo zero credit (cicilan 0%) or any promo related things\n",
    "- buyer can abuse chargeback\n",
    "- credit card fraud. I dont know the mechanism\n",
    "- bukadompet fraud. this is easy, the fraudster just have to login to the buyer or merchant and buying items using their e-money.\n",
    "- anything agaist the platform policy. Ex: the merchant should only use the platform to mediate transaction. They cannot promote their real store by writing it in their profile."
   ]
  },
  {
   "cell_type": "markdown",
   "metadata": {},
   "source": [
    "Ride-hailing and on demand\n",
    "\n",
    "If you are making Gojek, how would you design the database? What do you expect?"
   ]
  },
  {
   "cell_type": "markdown",
   "metadata": {},
   "source": [
    "- https://cambridge-intelligence.com/clamping-down-on-review-fraud/"
   ]
  }
 ],
 "metadata": {
  "anaconda-cloud": {},
  "kernelspec": {
   "display_name": "Python [default]",
   "language": "python",
   "name": "python3"
  },
  "language_info": {
   "codemirror_mode": {
    "name": "ipython",
    "version": 3
   },
   "file_extension": ".py",
   "mimetype": "text/x-python",
   "name": "python",
   "nbconvert_exporter": "python",
   "pygments_lexer": "ipython3",
   "version": "3.5.2"
  }
 },
 "nbformat": 4,
 "nbformat_minor": 2
}
