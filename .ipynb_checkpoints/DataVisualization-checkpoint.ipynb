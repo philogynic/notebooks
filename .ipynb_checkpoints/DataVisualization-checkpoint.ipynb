{
 "cells": [
  {
   "cell_type": "markdown",
   "metadata": {},
   "source": [
    "# Data Visualization\n",
    "This can be part of EDA and can be useful to present your analysis more easily. So here i collect some basics of it and provide with examples. I will compare how to do it in Python and R. In python, there can be so many different way to plot one thing. From my experience, I always forget how to do it (always need to see my old notebook). So it would be good it I make a compilation of best practice to code data viz to improve my speed.\n",
    "\n",
    "\n",
    "References:\n",
    "- http://blog.yhat.com/posts/python-data-viz-landscape.html\n",
    "- https://www.dataquest.io/blog/making-538-plots/"
   ]
  },
  {
   "cell_type": "markdown",
   "metadata": {
    "collapsed": true
   },
   "source": []
  }
 ],
 "metadata": {
  "anaconda-cloud": {},
  "kernelspec": {
   "display_name": "Python [default]",
   "language": "python",
   "name": "python3"
  },
  "language_info": {
   "codemirror_mode": {
    "name": "ipython",
    "version": 3
   },
   "file_extension": ".py",
   "mimetype": "text/x-python",
   "name": "python",
   "nbconvert_exporter": "python",
   "pygments_lexer": "ipython3",
   "version": "3.5.2"
  }
 },
 "nbformat": 4,
 "nbformat_minor": 2
}
