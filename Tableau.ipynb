{
 "cells": [
  {
   "cell_type": "markdown",
   "metadata": {},
   "source": [
    "# Tableau"
   ]
  },
  {
   "cell_type": "markdown",
   "metadata": {},
   "source": [
    "Starting\n",
    "- [Starting Tableau](https://medium.com/@rohan_barman/tableau-day-1-9afe1bfc8c83)\n",
    "- [What is Tableau?](http://understandingbusinessintelligence.blogspot.co.id/2016/04/what-is-tableau.html)\n",
    "- [Corporate Dashboard](http://understandingbusinessintelligence.blogspot.co.id/2016/03/corporate-dashboards.html)\n",
    "- [What Tableau IS and IS NOT](https://www.interworks.com/blog/dmurray/2014/12/29/what-tableau-and-not)\n",
    "- [Tableau Deep Dives](https://www.interworks.com/blog/series/tableau-deep-dives)\n",
    "- [Learning Path: Your Guide to become a Tableau Expert](https://www.analyticsvidhya.com/learning-paths-data-science-business-analytics-business-intelligence-big-data/tableau-learning-path/)\n",
    "\n",
    "\n",
    "Need some example on how people use Tableu\n",
    "- [Investigating global temperature trends with __BigQuery__ and __Tableau__](https://tilwbq.com/investigating-global-temperature-trends-with-bigquery-and-tableau-46c6ddd036ba)\n",
    "\n",
    "Some cool blogs:\n",
    "- http://thedailyviz.com/\n",
    "- http://www.vizwiz.com/\n",
    "- http://vizcandy.blogspot.co.id/ Awesome tips, very recommended.\n",
    "- https://vizpainter.com/\n",
    "- https://www.ryansleeper.com/\n",
    "- http://ugamarkj.blogspot.co.id/\n",
    "- https://vizninja.com/\n",
    "- https://www.dataplusscience.com/insights.html\n",
    "- https://www.dataplusscience.com/TableauReferenceGuide/index.html\n",
    "\n",
    "Videos:\n",
    "- https://www.tableau.com/learn\n",
    "\n",
    "awesome data viz:\n",
    "- http://flowingdata.com/\n",
    "- http://stephanieevergreen.com/blog/\n",
    "- http://junkcharts.typepad.com/\n",
    "- http://www.thefunctionalart.com/\n",
    "- http://datavizcatalogue.com/\n",
    "- http://www.visualisingdata.com/blog/"
   ]
  },
  {
   "cell_type": "markdown",
   "metadata": {
    "collapsed": true
   },
   "source": []
  }
 ],
 "metadata": {
  "anaconda-cloud": {},
  "kernelspec": {
   "display_name": "Python [default]",
   "language": "python",
   "name": "python3"
  },
  "language_info": {
   "codemirror_mode": {
    "name": "ipython",
    "version": 3
   },
   "file_extension": ".py",
   "mimetype": "text/x-python",
   "name": "python",
   "nbconvert_exporter": "python",
   "pygments_lexer": "ipython3",
   "version": "3.5.2"
  }
 },
 "nbformat": 4,
 "nbformat_minor": 2
}
