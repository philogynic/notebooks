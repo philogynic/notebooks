{
 "cells": [
  {
   "cell_type": "markdown",
   "metadata": {},
   "source": [
    "# Transportation\n",
    "\n",
    "- https://medium.com/@johnzimmer/the-third-transportation-revolution-27860f05fa91\n",
    "- https://medium.com/@johnzimmer/the-end-of-traffic-6d255c03207d\n",
    "- https://medium.com/lightspeed-venture-partners/on-the-incredible-shrinking-cost-of-urban-transportation-ce00785a558\n",
    "- https://medium.com/@azifali/the-premature-death-of-transportation-as-a-service-in-india-and-why-we-may-not-skip-car-ownership-124c0e25be56\n",
    "- https://medium.com/uber-under-the-hood/uber-in-towns-of-all-sizes-reliable-transportation-on-main-street-7ba31c4abb11\n",
    "- https://medium.com/uber-under-the-hood/designing-products-in-ways-that-can-help-minimize-distraction-c11615c5ee08\n"
   ]
  }
 ],
 "metadata": {
  "anaconda-cloud": {},
  "kernelspec": {
   "display_name": "Python [default]",
   "language": "python",
   "name": "python3"
  },
  "language_info": {
   "codemirror_mode": {
    "name": "ipython",
    "version": 3
   },
   "file_extension": ".py",
   "mimetype": "text/x-python",
   "name": "python",
   "nbconvert_exporter": "python",
   "pygments_lexer": "ipython3",
   "version": "3.5.2"
  }
 },
 "nbformat": 4,
 "nbformat_minor": 2
}
