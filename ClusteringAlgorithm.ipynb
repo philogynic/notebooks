{
 "cells": [
  {
   "cell_type": "markdown",
   "metadata": {},
   "source": [
    "# Clustering Algorithm\n",
    "Clustering or cluster analysis is a technique that allows us to find groups of similar objects. A group of similar object consisted of objects that are more related to each other than to objects in other groups.\n",
    "\n",
    "There are three categories of clustering:\n",
    "1. Prototype-based\n",
    "    1. K-means\n",
    "- Hierarchical\n",
    "- Density-based"
   ]
  },
  {
   "cell_type": "markdown",
   "metadata": {},
   "source": [
    "## Prototype-based\n",
    "- K-means algorithm\n",
    "\n",
    "Each cluster is represented by a prototype:\n",
    "- __centroid__ (average) of similar points for contiunous features\n",
    "- __medoid__ (the most representative or most frequently occuring point) in the case of categorical feature.\n",
    "\n",
    "Evaluation:\n",
    "- elbow\n",
    "- silhoutte plot"
   ]
  },
  {
   "cell_type": "markdown",
   "metadata": {},
   "source": [
    "### K-means clustering"
   ]
  },
  {
   "cell_type": "code",
   "execution_count": null,
   "metadata": {
    "collapsed": true
   },
   "outputs": [],
   "source": []
  },
  {
   "cell_type": "code",
   "execution_count": null,
   "metadata": {
    "collapsed": true
   },
   "outputs": [],
   "source": []
  },
  {
   "cell_type": "markdown",
   "metadata": {},
   "source": [
    "Let's generate some data to studies. In sklearn, you can use a module [make_blobs](http://scikit-learn.org/stable/modules/generated/sklearn.datasets.make_blobs.html) to generate isotropic Gaussian blobs for clustering.\n",
    "\n",
    "k-means algorithm steps:\n",
    "1. Specified $k$ and randomly pick $k$ centroids from the sample points as initial cluster centers.\n",
    "- Assign each sample to the nearest centroid $\\mu^{(j)},  j \\in {1,\\ldots,k}$.\n",
    "- Move the centroid to the center of the samples that were assigned to it.\n",
    "- Repeat the steps 2 and 3 until the cluster assignment do not change or a user-defined tolerance or a maximum number of iterations is reached."
   ]
  },
  {
   "cell_type": "code",
   "execution_count": 11,
   "metadata": {
    "collapsed": true
   },
   "outputs": [],
   "source": [
    "from sklearn.datasets import make_blobs\n",
    "import matplotlib.pyplot as plt\n",
    "\n",
    "%matplotlib inline"
   ]
  },
  {
   "cell_type": "code",
   "execution_count": 17,
   "metadata": {
    "collapsed": true
   },
   "outputs": [],
   "source": [
    "X, y = make_blobs(n_samples=150,\n",
    "                 n_features=2,\n",
    "                 centers=3,\n",
    "                 cluster_std=0.5,\n",
    "                 shuffle=True,\n",
    "                 random_state=0)"
   ]
  },
  {
   "cell_type": "code",
   "execution_count": 18,
   "metadata": {},
   "outputs": [
    {
     "data": {
      "text/plain": [
       "array([[ 2.60509732,  1.22529553],\n",
       "       [ 0.5323772 ,  3.31338909],\n",
       "       [ 0.802314  ,  4.38196181],\n",
       "       [ 0.5285368 ,  4.49723858],\n",
       "       [ 2.61858548,  0.35769791],\n",
       "       [ 1.59141542,  4.90497725],\n",
       "       [ 1.74265969,  5.03846671],\n",
       "       [ 2.37533328,  0.08918564],\n",
       "       [-2.12133364,  2.66447408],\n",
       "       [ 1.72039618,  5.25173192]])"
      ]
     },
     "execution_count": 18,
     "metadata": {},
     "output_type": "execute_result"
    }
   ],
   "source": [
    "X[0:10,:]"
   ]
  },
  {
   "cell_type": "code",
   "execution_count": 19,
   "metadata": {},
   "outputs": [
    {
     "data": {
      "text/plain": [
       "array([1, 0, 0, 0, 1, 0, 0, 1, 2, 0])"
      ]
     },
     "execution_count": 19,
     "metadata": {},
     "output_type": "execute_result"
    }
   ],
   "source": [
    "y[0:10]"
   ]
  },
  {
   "cell_type": "code",
   "execution_count": 20,
   "metadata": {},
   "outputs": [
    {
     "data": {
      "text/plain": [
       "<matplotlib.collections.PathCollection at 0x7fb7c3cf3198>"
      ]
     },
     "execution_count": 20,
     "metadata": {},
     "output_type": "execute_result"
    },
    {
     "data": {
      "image/png": "[encoded data removed]",
      "text/plain": [
       "<matplotlib.figure.Figure at 0x7fb7c3d8def0>"
      ]
     },
     "metadata": {},
     "output_type": "display_data"
    }
   ],
   "source": [
    "plt.scatter(X[:,0], X[:,1])"
   ]
  },
  {
   "cell_type": "markdown",
   "metadata": {},
   "source": [
    "In real-world clustering problem, we don't have the ground truth category (`y`); otherwise the problem would become supervised learning.\n",
    "\n",
    "Use squared euclidean distance to get the step 2. The problem become: minimizing the **within-cluster sum of squared errors (SSE)**\n",
    "\n",
    "$$SSE=\\sum_{n=1}^{n}\\sum_{j=1}^k w^{(i,j)} \\lvert x^{(i)}  - \\mu^{(j)}\\rvert_2^2$$\n",
    "\n",
    "In step 2, I have to calculate the squared euclidean distance between each point to each centroid. Then assign each point to the closest centroid (to the centroid that has the smallest distance with that point). If i have 3 clusters and 150 points, i have to do 3*150 operations to know the distance between each point to each centroid and 150 operations to assign each point to the 3 classes. You should also calculate the overall SSE that we gonna minimize\n",
    "\n",
    "In step 3, I have to calculate the mean of each variable within each cluster to get the center of the cluster and then move the centroid location to that center. For example i have 3 centroid and each centroid already have points that has been assigned to them (as a cluster). For each cluster, I have to calculate the mean for each variable. If i have 2 variables (2D); $x_1$ and $x_2$, then I have the mean of both of them for each cluster, for example $\\overline{x_1}^{(1)}$ is the mean of $x_1$ in cluster 1 etc. We will call this as center of the cluster. Then move the centroid to that center coordinate.\n",
    "\n",
    "\n",
    "### Problems with k-means:\n",
    "1. You have to determine the number of cluster\n",
    "- You have to determine the maximum number of iterations because it is possible that k-means does not reach converegence.\n",
    "- The initial centroid position can affect the clustering results\n",
    "\n",
    "\n",
    "To address the third problem, we can run k-means several time with different random intial centroid and choose the best in terms of the SSE\n",
    "\n",
    "IT is important to standardize all the variable."
   ]
  },
  {
   "cell_type": "markdown",
   "metadata": {},
   "source": [
    "### Elbow plot\n",
    "Problem with k-means no 1, we have to determine the number of cluster. But we sometimes don't know especially when the dimension of the data is more than 2-d. In that case, how do we gonna quantify the quality of the clustering model? As before, we can use withing-cluster SSE. In sklearn kmeans model, we can plot the SSE of different number of k. Intuitively we can say that if k increases, the SSE (distortion) will decrease. The idea behind elbow is to find the value of k where the distortion begins to increase more rapidly."
   ]
  },
  {
   "cell_type": "markdown",
   "metadata": {},
   "source": [
    "### Silhouette plot\n",
    "This is also talking about evaluating the quality of clustering model. Silhouette can be applied to other than k-means. It is a measure of how tightly grouped the samples in the cluster are.\n",
    "\n",
    "We need to find the silhoutte value $s$ for each sample. From these value of $s$, we can see whether our model is optimal or suboptimal\n"
   ]
  },
  {
   "cell_type": "markdown",
   "metadata": {},
   "source": [
    "### But I still didn't get the idea how this work in categorical variables.\n",
    "Medoid. How?? Isn't it just very very obvious? if I have 10 example, with 5 category A and 5 category B. Well I can just cluster them into 2, right? Why do i need to include medoid?"
   ]
  },
  {
   "cell_type": "markdown",
   "metadata": {},
   "source": [
    "## Hierarchical clustering\n",
    "Advantages:\n",
    "- allows to plot __dendograms__. Dendogram can be used to help the interpretation of the results. How? By creating meaningful taxonomies. & cool __heatmap__\n",
    "- We don't need to specify the number of cluster.\n",
    "\n",
    "Two categories:\n",
    "- Agglomerative hierarchical clustering\n",
    "- Divisive hierarchical clustering\n",
    "\n",
    "### Agglomerative hierarchical clustring\n",
    "- single linkage\n",
    "- complete linkage\n",
    "\n",
    "Steps:\n",
    "1. Compute the distance matrix of all samples\n",
    "- Represent each datapoints as singleton cluster.\n",
    "- Merge the two closest clusters based on the distance of the most dissimilar (distant) member.\n",
    "- Update the similarity matrix\n",
    "- Repeat steps 2 to 4 until one single cluster remain."
   ]
  },
  {
   "cell_type": "markdown",
   "metadata": {},
   "source": [
    "## Density-based clustering. DBSCAN\n",
    "REALLY IMPORTANT\n",
    "\n",
    "Advantage:\n",
    "- does not assume that the cluster have a sperical shape as in k-means\n",
    "- does not necessarily assign each point to a cluster but is capable of removing noise points.\n",
    "\n",
    "Steps:\n",
    "1. Each point has to be labelled as:\n",
    "    - core point: at leas a specified number (MinPts) of neighboring points fall within the specified radius $\\epsilon$\n",
    "    - border point: point that has fewer neighbors than MinPts within $\\epsilon$, but lies within $\\epsilon$ radius of a core point\n",
    "    - noise point: all other than core or border\n",
    "2. Form a separate cluster for each core point or a connected group of core point (core points are connected if they are no farther away than $\\epsilon$)\n",
    "3. Assign each border point to the cluster of its corresponding core point.\n",
    "\n"
   ]
  },
  {
   "cell_type": "code",
   "execution_count": 21,
   "metadata": {},
   "outputs": [
    {
     "data": {
      "image/png": "[encoded data removed]",
      "text/plain": [
       "<matplotlib.figure.Figure at 0x7fb7c8299a58>"
      ]
     },
     "metadata": {},
     "output_type": "display_data"
    }
   ],
   "source": [
    "from sklearn.datasets import make_moons\n",
    "X, y = make_moons(n_samples=200, noise=0.05, random_state=0)\n",
    "plt.scatter(X[:,0], X[:,1])\n",
    "plt.show()"
   ]
  },
  {
   "cell_type": "code",
   "execution_count": 22,
   "metadata": {},
   "outputs": [
    {
     "data": {
      "image/png": "[encoded data removed]",
      "text/plain": [
       "<matplotlib.figure.Figure at 0x7fb7c3d23908>"
      ]
     },
     "metadata": {},
     "output_type": "display_data"
    }
   ],
   "source": [
    "from sklearn.cluster import DBSCAN\n",
    "db = DBSCAN(eps=0.2, min_samples=5, metric='euclidean')\n",
    "y_db = db.fit_predict(X)\n",
    "plt.scatter(X[y_db==0,0],\n",
    "            X[y_db==0,1],\n",
    "            c='lightblue',\n",
    "            marker='o',\n",
    "            s=40,\n",
    "            label='cluster 1')\n",
    "plt.scatter(X[y_db==1,0],\n",
    "            X[y_db==1,1],\n",
    "            c='red',\n",
    "            marker='s',\n",
    "            s=40,\n",
    "            label='cluster 2')\n",
    "plt.legend()\n",
    "plt.show()"
   ]
  },
  {
   "cell_type": "code",
   "execution_count": null,
   "metadata": {
    "collapsed": true
   },
   "outputs": [],
   "source": []
  }
 ],
 "metadata": {
  "anaconda-cloud": {},
  "kernelspec": {
   "display_name": "Python [default]",
   "language": "python",
   "name": "python3"
  },
  "language_info": {
   "codemirror_mode": {
    "name": "ipython",
    "version": 3
   },
   "file_extension": ".py",
   "mimetype": "text/x-python",
   "name": "python",
   "nbconvert_exporter": "python",
   "pygments_lexer": "ipython3",
   "version": "3.5.2"
  }
 },
 "nbformat": 4,
 "nbformat_minor": 2
}
