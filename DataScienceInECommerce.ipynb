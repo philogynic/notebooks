{
 "cells": [
  {
   "cell_type": "markdown",
   "metadata": {},
   "source": [
    "# Data Science in eCommerce\n",
    "\n",
    "Hi all, this is my first blog. I write this in order to prepare my next interview in one of online commerce market place in my home country. I think it would be very useful for me to know the domain of the problem. Here I will explore about how data science can be applied in the context of eCommerce. It will be a compilation from many references that I can collect. So I think I will have to write this in parts. I will provide each case with the problem motivation, example data and example code.\n",
    "\n",
    "\n",
    "\n",
    "1. Identify you most valuable customers\n",
    "- Discover which customers are likely to churn\n",
    "- Drive sales with intelligent product recommendations\n",
    "- Automatically extract useful information from reviews\n",
    "- Supply chain management\n",
    "- Merchant/Customer Fraud detection\n",
    "- Merchant analytics\n",
    "- Product specific analytics\n",
    "- Online marketing analytics\n",
    "- User experience analytics\n",
    "- Sales conversion funnel\n",
    "- Predicting demand\n",
    "- Customer segmentation\n",
    "- Dynamics pricing\n",
    "\n",
    "That's related to how we can improve the algorithm related to the business logic. The other important part for Data Scientist to know is how you want to implement that. Step the technical aside, we still don't know whether our customers see our new things as good or bad. We need to know that before do the implementation. So, you should run the test. For new algorithm, usually the hypothesis just would be; Our new algo will increase customer conversion rate. To be able to design the test is important skills for Data Scientist."
   ]
  },
  {
   "cell_type": "markdown",
   "metadata": {},
   "source": [
    "## Data sources in e-commerce:\n",
    "- item data\n",
    "- Merchant/buyer\n",
    "- transaction\n",
    "- click/event stream\n",
    "- campaign data WTF?\n",
    "\n",
    "there are some external data tho:\n",
    "- publisher data\n",
    "- google analytics\n",
    "- mobile analytics\n",
    "- seo analytics\n",
    "- social media data"
   ]
  },
  {
   "cell_type": "markdown",
   "metadata": {},
   "source": [
    "## 1. Indetify Your Most Valuable Customers\n",
    "This is sometimes called customer lifetime value (CLV) modeling. Put simple, you are to predict the future revenue that each customer will bring to your business.\n",
    "\n",
    "For all, I will answering this main questions\n",
    "- How can it be useful?\n",
    "    - marketing strategy\n",
    "    - well, predict revenue\n",
    "- What features we can use?\n",
    "    - historical purchase data\n",
    "    - if the customer is seller, it can be their historical selling data or how much they pay you for their marketing\n",
    "- How the model would be like?\n",
    "    - I think it would be regression model since what we predict is the future revenue\n",
    "- Do you have examples of data and the analysis?\n",
    "    - I'll find one later\n",
    "    \n",
    "    \n",
    "Subtask:\n",
    "- [predicting whether customer becomes repeat buyers](https://www.kaggle.com/c/acquire-valued-shoppers-challenge/discussion/7680)\n",
    "\n",
    "Example task\n",
    "- [Acquire Valued Shoppers Challenge](https://www.kaggle.com/c/acquire-valued-shoppers-challenge) : Identifying the shopper who will become a loyal buyer -- prior to the initial purchase. The data is big: when decompressed requires 22GB of space.\n",
    "\n",
    "- [Online retail dataset UCI Machine Learning Repo](http://archive.ics.uci.edu/ml/datasets/Online+Retail)\n",
    "\n",
    "- [Click event in e-commerce website](http://recsys.yoochoose.net/challenge.html) : The goal is to predict whether the user is going to buy something or not, and if he is buying, what would be the items he is going to buy\n",
    "    - Is the user going to buy items in this session? Yes|No\n",
    "    - If yes, what are the item that are going to be bought?\n",
    "    \n",
    "- [Retailrocket recommender system dataset](https://www.kaggle.com/retailrocket/ecommerce-dataset) : "
   ]
  },
  {
   "cell_type": "markdown",
   "metadata": {},
   "source": [
    "## 2. Discover which customer are likely to churn\n",
    "A churn model provide the insights to implement data-driven customer retention strategy.\n",
    "- understand the general reason why your customers stop using your product"
   ]
  },
  {
   "cell_type": "markdown",
   "metadata": {},
   "source": [
    "## 3. Drive sales with intelligent product recommendations\n",
    "Recommendation engine. How effective it is? Why people need recomendations? Is it really can drive customer buy? I have a good article about recommendations. [You need to have context](http://blog.yhat.com/posts/trending-products-recommender-engine.html). For example:\n",
    "- other people who read this article read...\n",
    "- Household like yours frequently buy...\n",
    "- Your recently viewed items and featured recommendations inspired by your browsing history\n",
    "\n",
    "Not just: Recommended for you..., You might also like...\n",
    "\n",
    "Let's consider the example of a user shopping on e-commerce site. One day he might buy a laptop, some days later he will buy some hiking gear, and some days after that he buys accessories to the laptop he bought in the first session. This illustrate that the users interest in a session can be dependent on what he did in earlier sessions, and that just considering the previous session is not enough.\n",
    "\n",
    "Some blogs:\n",
    "- [A Simple content-based recommendation engine in Python by Chris Clark](http://blog.untrod.com/2016/06/simple-similar-products-recommendation-engine-in-python.html) the data is [here](https://www.kaggle.com/cclark/product-item-data/kernels).\n",
    "\n",
    "\n",
    "Papers:\n",
    "- Session-based recommendation (RNN)\n",
    "    - https://arxiv.org/pdf/1706.07506.pdf\n",
    "\n",
    "__Product Association__. ex:"
   ]
  },
  {
   "cell_type": "markdown",
   "metadata": {},
   "source": [
    "## 4. Automatically extract useful information from reviews\n",
    "reviews are of course a form of user feedback that can be very useful for you. But when you receive a lot of reviews, thousands of it weekly, the task can be daunting.\n",
    "- [document classification](http://zacstewart.com/2015/04/28/document-classification-with-scikit-learn.html)\n",
    "- [NLP kaggle movie review analysis](https://jessesw.com/NLP-Movie-Reviews/)\n"
   ]
  },
  {
   "cell_type": "markdown",
   "metadata": {
    "collapsed": true
   },
   "source": [
    "## 9. Online marketing analytics\n",
    "To quantivy the marketing activities effectiveness from several metrics:\n",
    "- Traffics\n",
    "- Conversion Rate (CR)\n",
    "- Gross Merchandise Value (GMV)\n",
    "- Return on Ad Spend\n",
    "- Cost"
   ]
  },
  {
   "cell_type": "markdown",
   "metadata": {},
   "source": [
    "## 14. Dynamics pricing\n",
    "multiple changes in a product at different times of the day. Based on the consumer behavior on the website, the browsing pattern, etc"
   ]
  },
  {
   "cell_type": "markdown",
   "metadata": {},
   "source": [
    "## References:\n",
    "- https://www.datascience.com/blog/data-science-for-ecommece-businesses-predictive-modeling\n",
    "- http://blog.yhat.com/posts/trending-products-recommender-engine.html\n",
    "- https://www.analyticsvidhya.com/blog/2015/08/role-analytics-e-commerce-industry/\n",
    "- http://blog.yhat.com/posts/analysing-your-e-commerce-funnel-with-r.html\n",
    "- http://blog.yhat.com/posts/predicting-customer-churn-with-sklearn.html\n",
    "- http://zacstewart.com/2015/04/28/document-classification-with-scikit-learn.html\n",
    "- https://www.kaggle.com/c/acquire-valued-shoppers-challenge/discussion/7680\n",
    "- https://shiring.github.io/forecasting/2017/05/28/retail_forcasting_part1\n",
    "- https://medium.com/towards-data-science/examples-of-applied-data-science-in-healthcare-and-e-commerce-e3b4a77ed306\n"
   ]
  },
  {
   "cell_type": "markdown",
   "metadata": {
    "collapsed": true
   },
   "source": [
    "## Datasets:\n",
    "- Instacart market basket\n",
    "    - https://www.kaggle.com/c/instacart-market-basket-analysis/data"
   ]
  },
  {
   "cell_type": "code",
   "execution_count": null,
   "metadata": {
    "collapsed": true
   },
   "outputs": [],
   "source": []
  }
 ],
 "metadata": {
  "anaconda-cloud": {},
  "kernelspec": {
   "display_name": "Python [default]",
   "language": "python",
   "name": "python3"
  },
  "language_info": {
   "codemirror_mode": {
    "name": "ipython",
    "version": 3
   },
   "file_extension": ".py",
   "mimetype": "text/x-python",
   "name": "python",
   "nbconvert_exporter": "python",
   "pygments_lexer": "ipython3",
   "version": "3.5.2"
  }
 },
 "nbformat": 4,
 "nbformat_minor": 2
}
